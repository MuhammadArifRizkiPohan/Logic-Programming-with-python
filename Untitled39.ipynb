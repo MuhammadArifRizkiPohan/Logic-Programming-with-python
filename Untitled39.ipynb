{
  "nbformat": 4,
  "nbformat_minor": 0,
  "metadata": {
    "colab": {
      "provenance": []
    },
    "kernelspec": {
      "name": "python3",
      "display_name": "Python 3"
    },
    "language_info": {
      "name": "python"
    }
  },
  "cells": [
    {
      "cell_type": "markdown",
      "source": [],
      "metadata": {
        "id": "2MfQjzGlF-GZ"
      }
    },
    {
      "cell_type": "markdown",
      "source": [
        "##KODE PYTHON LOGIKA SEDERHANA\n"
      ],
      "metadata": {
        "id": "JuYX_Pol4E9-"
      }
    },
    {
      "source": [
        "print (\"##  Program Python Persegi Bintang  ##\")\n",
        "print(\"=========================================\")\n",
        "\n",
        "# Use a different variable name, like num_input, to avoid conflict with the built-in input() function.\n",
        "num = int(input(\"Masukkan Angka : \"))\n",
        "print()\n",
        "\n",
        "for i in range(num):\n",
        "    for j in range(num):\n",
        "        print(\" * \", end=\"\")\n",
        "    print()"
      ],
      "cell_type": "code",
      "metadata": {
        "colab": {
          "base_uri": "https://localhost:8080/"
        },
        "id": "WVGPixiNGCZ0",
        "outputId": "f0b47041-3bf2-4ece-c8c6-614d7e959c13"
      },
      "execution_count": null,
      "outputs": [
        {
          "output_type": "stream",
          "name": "stdout",
          "text": [
            "##  Program Python Persegi Bintang  ##\n",
            "=========================================\n",
            "Masukkan Angka : 3\n",
            "\n",
            " *  *  * \n",
            " *  *  * \n",
            " *  *  * \n"
          ]
        }
      ]
    },
    {
      "cell_type": "code",
      "source": [],
      "metadata": {
        "id": "UmND-p_eHMTk"
      },
      "execution_count": null,
      "outputs": []
    },
    {
      "cell_type": "code",
      "source": [
        "print (\"##  Program Python Persegi Panjanvg Bintang  ##\")\n",
        "print(\"=========================================\")\n",
        "\n",
        "\n",
        "# Use a different variable name, like num_input, to avoid conflict with the built-in input() function.\n",
        "num = int(input(\"Masukkan Tinggi  : \"))\n",
        "num2=int(input(\"Masukkan Lebar : \"))\n",
        "print()\n",
        "\n",
        "for i in range(num):\n",
        "    for j in range(num2):\n",
        "        print(\" * \", end=\"\")\n",
        "    print()"
      ],
      "metadata": {
        "colab": {
          "base_uri": "https://localhost:8080/"
        },
        "id": "ZpqH7l0DG4dF",
        "outputId": "683926b8-6fdc-4eae-ed50-3e11b4743007"
      },
      "execution_count": null,
      "outputs": [
        {
          "output_type": "stream",
          "name": "stdout",
          "text": [
            "##  Program Python Persegi Bintang  ##\n",
            "=========================================\n",
            "Masukkan Tinggi  : 9\n",
            "Masukkan Lebar : 4\n",
            "\n",
            " *  *  *  * \n",
            " *  *  *  * \n",
            " *  *  *  * \n",
            " *  *  *  * \n",
            " *  *  *  * \n",
            " *  *  *  * \n",
            " *  *  *  * \n",
            " *  *  *  * \n",
            " *  *  *  * \n"
          ]
        }
      ]
    },
    {
      "source": [
        "print (\"##  Program Python Segitiga Bintang  ##\")\n",
        "print(\"=========================================\")\n",
        "\n",
        "\n",
        "num = int(input(\"Masukkan Angka : \"))\n",
        "print()\n",
        "\n",
        "for i in range(num+1):\n",
        "    for j in range(i):\n",
        "        print(\" * \", end=\"\")\n",
        "    print()"
      ],
      "cell_type": "code",
      "metadata": {
        "colab": {
          "base_uri": "https://localhost:8080/"
        },
        "outputId": "3fe54a81-3158-4553-b34f-45c596cff1db",
        "id": "OWL1ElyUHM3A"
      },
      "execution_count": null,
      "outputs": [
        {
          "output_type": "stream",
          "name": "stdout",
          "text": [
            "##  Program Python Segitiga Bintang  ##\n",
            "=========================================\n",
            "Masukkan Angka : 4\n",
            "\n",
            " * \n",
            " *  * \n",
            " *  *  * \n",
            " *  *  *  * \n"
          ]
        }
      ]
    },
    {
      "source": [
        "print (\"##  Program Python Segitiga Bintang Terbalik  ##\")\n",
        "print(\"=========================================\")\n",
        "\n",
        "\n",
        "num = int(input(\"Masukkan Angka : \"))\n",
        "print()\n",
        "\n",
        "for i in range(num,0,-1):\n",
        "    for j in range(num-1):\n",
        "        print(\"  \", end=\"\")\n",
        "    for j in range(i):\n",
        "        print(\" * \", end=\"\")\n",
        "    print()"
      ],
      "cell_type": "code",
      "metadata": {
        "colab": {
          "base_uri": "https://localhost:8080/"
        },
        "outputId": "719904ae-cab5-4ebb-d28e-65a60a67a9ff",
        "id": "LmSCwQgxJNRg"
      },
      "execution_count": null,
      "outputs": [
        {
          "output_type": "stream",
          "name": "stdout",
          "text": [
            "##  Program Python Segitiga Bintang Terbalik  ##\n",
            "=========================================\n",
            "Masukkan Angka : 5\n",
            "\n",
            "         *  *  *  *  * \n",
            "         *  *  *  * \n",
            "         *  *  * \n",
            "         *  * \n",
            "         * \n"
          ]
        }
      ]
    },
    {
      "cell_type": "code",
      "source": [
        "print (\"##  Program Python Piramida Bintang  ##\")\n",
        "print(\"=========================================\")\n",
        "\n",
        "\n",
        "num = int(input(\"Masukkan Angka : \"))\n",
        "print()\n",
        "\n",
        "for i in range(num):\n",
        "    for j in range(num-i):\n",
        "        print(\"  \", end=\"\")\n",
        "    for k in range(i+1):\n",
        "        print(\" * \", end=\" \")\n",
        "\n",
        "    print()"
      ],
      "metadata": {
        "colab": {
          "base_uri": "https://localhost:8080/"
        },
        "id": "sS7KuVFbJM6F",
        "outputId": "5245c647-4703-4fea-da09-71bbf24e067a"
      },
      "execution_count": null,
      "outputs": [
        {
          "output_type": "stream",
          "name": "stdout",
          "text": [
            "##  Program Python Piramida Bintang  ##\n",
            "=========================================\n",
            "Masukkan Angka : 7\n",
            "\n",
            "               *  \n",
            "             *   *  \n",
            "           *   *   *  \n",
            "         *   *   *   *  \n",
            "       *   *   *   *   *  \n",
            "     *   *   *   *   *   *  \n",
            "   *   *   *   *   *   *   *  \n"
          ]
        }
      ]
    },
    {
      "cell_type": "code",
      "source": [],
      "metadata": {
        "id": "WEzoDSoqLLCp"
      },
      "execution_count": null,
      "outputs": []
    },
    {
      "cell_type": "code",
      "source": [
        "print (\"##  Program Python Piramida Bintang  ##\")\n",
        "print(\"=========================================\")\n",
        "\n",
        "\n",
        "num = int(input(\"Masukkan Angka : \"))\n",
        "print()\n",
        "\n",
        "for i in range(num):\n",
        "    for j in range(i+1):\n",
        "        print(\" \", end=\"\")\n",
        "    for k in range(num-i):\n",
        "        print(\"* \", end=\"\")\n",
        "\n",
        "    print()"
      ],
      "metadata": {
        "colab": {
          "base_uri": "https://localhost:8080/"
        },
        "outputId": "8c9c0412-2fb6-471e-e7da-7a893453fd39",
        "id": "ykguOFXtLLRR"
      },
      "execution_count": null,
      "outputs": [
        {
          "output_type": "stream",
          "name": "stdout",
          "text": [
            "##  Program Python Piramida Bintang  ##\n",
            "=========================================\n",
            "Masukkan Angka : 9\n",
            "\n",
            " * * * * * * * * * \n",
            "  * * * * * * * * \n",
            "   * * * * * * * \n",
            "    * * * * * * \n",
            "     * * * * * \n",
            "      * * * * \n",
            "       * * * \n",
            "        * * \n",
            "         * \n"
          ]
        }
      ]
    },
    {
      "cell_type": "code",
      "source": [],
      "metadata": {
        "id": "_8qb9Jkm3zMD"
      },
      "execution_count": null,
      "outputs": []
    }
  ]
}